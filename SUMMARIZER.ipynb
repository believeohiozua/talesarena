{
 "cells": [
  {
   "cell_type": "code",
   "execution_count": 1,
   "metadata": {},
   "outputs": [],
   "source": [
    "from sumy.parsers.html import HtmlParser\n",
    "from sumy.parsers.plaintext import PlaintextParser\n",
    "from sumy.nlp.tokenizers import Tokenizer\n",
    "from sumy.nlp.stemmers import Stemmer\n",
    "from sumy.utils import get_stop_words\n",
    "from sumy.summarizers.lex_rank import LexRankSummarizer as Summarizer\n",
    "import sys, os"
   ]
  },
  {
   "cell_type": "code",
   "execution_count": null,
   "metadata": {},
   "outputs": [
    {
     "name": "stdout",
     "output_type": "stream",
     "text": [
      "\n",
      "Enter 1 To Summarize Texts or 2 to Summarixe a Web Page : Type or Paste The Text  You Wish to Summarize Here or  Enter \"e\" to Exit The Program: Enter The Number of Sentences You Wish To Summarize To: 10 Python 3.7.4 is the fourth and most recent maintenance release of Python 3.7. PEP 539 , new C API for thread-local storage PEP 545 , Python documentation translations New documentation translations: Japanese , French , and Korean . Notable performance improvements in many areas. The binaries for AMD64 will also work on processors that implement the Intel 64 architecture. There are now \"web-based\" installers for Windows platforms; the installer will download the needed software components at installation time. Please see the documentation regarding Embedded Distribution for more information. For Python 3.7.4, we provide two binary installer options for download. The default variant is 64-bit-only and works on macOS 10.9 (Mavericks) and later systems. Changed in 3.7.4 The 64-bit/32-bit variant that also works on very old versions of macOS, from 10.6 (Snow Leopard) on, is now deprecated and will no longer be provided in future releases; see the macOS installer ReadMe file for more info. Both python.org installer variants include private copies of OpenSSL.  Enter The Number of Sentences You Wish To Summarize To: 2 --------------------------------------------------------------------------- NameError                                 Traceback (most recent call last) <ipython-input-2-8f585cf0c7e8> in Text_Page_Summarizer()\n",
      "\n",
      "Enter 1 To Summarize Texts or 2 to Summarixe a Web Page : 5\n",
      "\n",
      "Enter 1 To Summarize Texts or 2 to Summarixe a Web Page : 1\n",
      "\n",
      "Type or Paste The Text  You Wish to Summarize Here or \n",
      "Enter \"e\" to Exit The Program: Type or Paste The Text  You Wish to Summarize Here or  Enter \"e\" to Exit The Program: Enter The Number of Sentences You Wish To Summarize To: 10 Python 3.7.4 is the fourth and most recent maintenance release of Python 3.7. PEP 539 , new C API for thread-local storage PEP 545 , Python documentation translations New documentation translations: Japanese , French , and Korean . Notable performance improvements in many areas. The binaries for AMD64 will also work on processors that implement the Intel 64 architecture. There are now \"web-based\" installers for Windows platforms; the installer will download the needed software components at installation time. Please see the documentation regarding Embedded Distribution for more information. For Python 3.7.4, we provide two binary installer options for download. The default variant is 64-bit-only and works on macOS 10.9 (Mavericks) and later systems. Changed in 3.7.4 The 64-bit/32-bit variant that also works on very old versions of macOS, from 10.6 (Snow Leopard) on, is now deprecated and will no longer be provided in future releases; see the macOS installer ReadMe file for more info. Both python.org installer variants include private copies of OpenSSL.  Enter The Number of Sentences You Wish To Summarize To: 2 --------------------------------------------------------------------------- NameError                                 Traceback (most recent call last) <ipython-input-2-8f585cf0c7e8> in Text_Page_Summarizer()\n",
      "\n",
      "Enter The Number of Sentences You Wish To Summarize To: 5\n",
      "Type or Paste The Text  You Wish to Summarize Here or  Enter \"e\" to Exit The Program: Enter The Number of Sentences You Wish To Summarize To: 10 Python 3.7.4 is the fourth and most recent maintenance release of Python 3.7.\n",
      "PEP 539 , new C API for thread-local storage PEP 545 , Python documentation translations New documentation translations: Japanese , French , and Korean .\n",
      "There are now \"web-based\" installers for Windows platforms; the installer will download the needed software components at installation time.\n",
      "For Python 3.7.4, we provide two binary installer options for download.\n",
      "Changed in 3.7.4 The 64-bit/32-bit variant that also works on very old versions of macOS, from 10.6 (Snow Leopard) on, is now deprecated and will no longer be provided in future releases; see the macOS installer ReadMe file for more info.\n",
      "\n",
      "---END---\n"
     ]
    }
   ],
   "source": [
    "class summarizer():\n",
    "     def __self__():\n",
    "        choice = input('\\nEnter 1 To Summarize Texts or 2 to Summarixe a Web Page : ')    \n",
    "        def Text_Page_Summarizer():\n",
    "            start = 0\n",
    "            Lang = 'english'\n",
    "            while (start<1):\n",
    "                Text = input('\\nType or Paste The Text  You Wish to Summarize Here or \\nEnter \"e\" to Exit The Program: ')\n",
    "                if Text == 'e' or Text =='E':\n",
    "                    print('\\nProgram Exited.')\n",
    "                    break\n",
    "                SENTENCES_COUNT = input('\\nEnter The Number of Sentences You Wish To Summarize To: ')\n",
    "                try:\n",
    "                    SENTENCES_COUNT = int(SENTENCES_COUNT)\n",
    "                except:\n",
    "                    print(' \\n','\"',SENTENCES_COUNT,'\"',' Is NOT a valid Number!, Please Enter a valid Number: ')\n",
    "                    continue\n",
    "                try:\n",
    "                    with open('textfile.txt', 'w', encoding=\"utf-8\") as f:\n",
    "                        f.write(Text)\n",
    "                    text_parser = PlaintextParser.from_file('textfile.txt', Tokenizer(Lang))\n",
    "                    text_stemmer = Stemmer(Lang)\n",
    "                    text_summarizer = Summarizer(text_stemmer)\n",
    "                    text_summarizer.stop_words = get_stop_words(Lang)\n",
    "                    summary = text_summarizer(text_parser.document, SENTENCES_COUNT)\n",
    "                    for sentences in summary:\n",
    "                        print(sentences)\n",
    "                    print('\\n---END---')            \n",
    "                except:\n",
    "                    print('\\nThere seem to be an issue,',\n",
    "                          ' \\n 1. check your internet connection and try again,\\n',\n",
    "                           '2. Check if this link: ','\"',url,'\"','Is Valid\\n',\n",
    "                          '3. Or contact 07035834838')\n",
    "\n",
    "        def Web_Page_Summarizer():\n",
    "            start = 0\n",
    "            LANGUAGE = 'english'\n",
    "            while (start<1):\n",
    "                url = input('\\nEnter The Website link You Wish to Summarize or Enter \"e\" to Exit The Program: ')\n",
    "                if url == 'e' or url =='E':\n",
    "                    print('\\nProgram Exited.')\n",
    "                    break\n",
    "                SENTENCES_COUNT = input('\\nEnter The Number of Sentences You Wish To Summarize To: ')\n",
    "                try:\n",
    "                    SENTENCES_COUNT = int(SENTENCES_COUNT)\n",
    "                except:\n",
    "                    print(' \\n','\"',SENTENCES_COUNT,'\"',' Is NOT a valid Number!, Please Enter a valid Number: ')\n",
    "                    continue\n",
    "                try:\n",
    "                    parser = HtmlParser.from_url(url, Tokenizer(LANGUAGE)) \n",
    "                    stemmer = Stemmer(LANGUAGE)\n",
    "                    summarizer = Summarizer(stemmer)\n",
    "                    summarizer.stop_words = get_stop_words(LANGUAGE)\n",
    "                    summary = summarizer(parser.document, SENTENCES_COUNT)\n",
    "                    for sentences in summary:\n",
    "                        print(sentences)\n",
    "                    print('\\n---END---')            \n",
    "                except:\n",
    "                    print('\\nERROR, Please :',\n",
    "                          ' \\n 1. Check your internet connection and try again,\\n',                       \n",
    "                          '2. Or Contact 07035834838')\n",
    "        \n",
    "        if choice == 1 or choice =='1':            \n",
    "            return Text_Page_Summarizer()\n",
    "        elif choice == 2 or choice =='2': \n",
    "            return Web_Page_Summarizer()\n",
    "        elif choice != '2' or choice !='1' or choice !=2 or choice !='2':\n",
    "            print('Invalid Entery,', choice,' Is neither 1 Nor 2 ', 'Try Again ',summarizer.__self__() )\n",
    "       \n",
    "          \n",
    "summarizer.__self__()      "
   ]
  },
  {
   "cell_type": "code",
   "execution_count": 3,
   "metadata": {},
   "outputs": [
    {
     "name": "stdout",
     "output_type": "stream",
     "text": [
      "\n",
      "Enter 1 To Summarize Texts or 2 to Summarixe a Web Page : 1\n",
      "\n",
      "Type or Paste The Text  You Wish to Summarize Here or \n",
      "Enter \"e\" to Exit The Program: Enter The Number of Sentences You Wish To Summarize To: 10 Python 3.7.4 is the fourth and most recent maintenance release of Python 3.7. PEP 539 , new C API for thread-local storage PEP 545 , Python documentation translations New documentation translations: Japanese , French , and Korean . Notable performance improvements in many areas. The binaries for AMD64 will also work on processors that implement the Intel 64 architecture. There are now \"web-based\" installers for Windows platforms; the installer will download the needed software components at installation time. Please see the documentation regarding Embedded Distribution for more information. For Python 3.7.4, we provide two binary installer options for download. The default variant is 64-bit-only and works on macOS 10.9 (Mavericks) and later systems. Changed in 3.7.4 The 64-bit/32-bit variant that also works on very old versions of macOS, from 10.6 (Snow Leopard) on, is now deprecated and will no longer be provided in future releases; see the macOS installer ReadMe file for more info. Both python.org installer variants include private copies of OpenSSL.\n",
      "\n",
      "Enter The Number of Sentences You Wish To Summarize To: 2\n"
     ]
    },
    {
     "ename": "NameError",
     "evalue": "name 'url' is not defined",
     "output_type": "error",
     "traceback": [
      "\u001b[1;31m---------------------------------------------------------------------------\u001b[0m",
      "\u001b[1;31mNameError\u001b[0m                                 Traceback (most recent call last)",
      "\u001b[1;32m<ipython-input-2-8f585cf0c7e8>\u001b[0m in \u001b[0;36mText_Page_Summarizer\u001b[1;34m()\u001b[0m\n\u001b[0;32m     20\u001b[0m                         \u001b[0mf\u001b[0m\u001b[1;33m.\u001b[0m\u001b[0mwrite\u001b[0m\u001b[1;33m(\u001b[0m\u001b[0mText\u001b[0m\u001b[1;33m)\u001b[0m\u001b[1;33m\u001b[0m\u001b[1;33m\u001b[0m\u001b[0m\n\u001b[1;32m---> 21\u001b[1;33m                     \u001b[0mtext_parser\u001b[0m \u001b[1;33m=\u001b[0m \u001b[0mPlaintextParser\u001b[0m\u001b[1;33m.\u001b[0m\u001b[0mfrom_file\u001b[0m\u001b[1;33m(\u001b[0m\u001b[1;34m'textfile.txt'\u001b[0m\u001b[1;33m,\u001b[0m \u001b[0mTokenizer\u001b[0m\u001b[1;33m(\u001b[0m\u001b[0mLang\u001b[0m\u001b[1;33m)\u001b[0m\u001b[1;33m)\u001b[0m\u001b[1;33m\u001b[0m\u001b[1;33m\u001b[0m\u001b[0m\n\u001b[0m\u001b[0;32m     22\u001b[0m                     \u001b[0mtext_stemmer\u001b[0m \u001b[1;33m=\u001b[0m \u001b[0mStemmer\u001b[0m\u001b[1;33m(\u001b[0m\u001b[0mLang\u001b[0m\u001b[1;33m)\u001b[0m\u001b[1;33m\u001b[0m\u001b[1;33m\u001b[0m\u001b[0m\n",
      "\u001b[1;31mNameError\u001b[0m: name 'Lang' is not defined",
      "\nDuring handling of the above exception, another exception occurred:\n",
      "\u001b[1;31mNameError\u001b[0m                                 Traceback (most recent call last)",
      "\u001b[1;32m<ipython-input-3-00964ea48dd5>\u001b[0m in \u001b[0;36m<module>\u001b[1;34m\u001b[0m\n\u001b[1;32m----> 1\u001b[1;33m \u001b[0mprint\u001b[0m\u001b[1;33m(\u001b[0m\u001b[0msummarizer\u001b[0m\u001b[1;33m.\u001b[0m\u001b[0m__self__\u001b[0m\u001b[1;33m(\u001b[0m\u001b[1;33m)\u001b[0m\u001b[1;33m)\u001b[0m\u001b[1;33m\u001b[0m\u001b[1;33m\u001b[0m\u001b[0m\n\u001b[0m",
      "\u001b[1;32m<ipython-input-2-8f585cf0c7e8>\u001b[0m in \u001b[0;36m__self__\u001b[1;34m()\u001b[0m\n\u001b[0;32m     62\u001b[0m \u001b[1;33m\u001b[0m\u001b[0m\n\u001b[0;32m     63\u001b[0m         \u001b[1;32mif\u001b[0m \u001b[0mchoice\u001b[0m \u001b[1;33m==\u001b[0m \u001b[1;36m1\u001b[0m \u001b[1;32mor\u001b[0m \u001b[0mchoice\u001b[0m \u001b[1;33m==\u001b[0m\u001b[1;34m'1'\u001b[0m\u001b[1;33m:\u001b[0m\u001b[1;33m\u001b[0m\u001b[1;33m\u001b[0m\u001b[0m\n\u001b[1;32m---> 64\u001b[1;33m             \u001b[1;32mreturn\u001b[0m \u001b[0mText_Page_Summarizer\u001b[0m\u001b[1;33m(\u001b[0m\u001b[1;33m)\u001b[0m\u001b[1;33m\u001b[0m\u001b[1;33m\u001b[0m\u001b[0m\n\u001b[0m\u001b[0;32m     65\u001b[0m         \u001b[1;32melif\u001b[0m \u001b[0mchoice\u001b[0m \u001b[1;33m==\u001b[0m \u001b[1;36m2\u001b[0m \u001b[1;32mor\u001b[0m \u001b[0mchoice\u001b[0m \u001b[1;33m==\u001b[0m\u001b[1;34m'2'\u001b[0m\u001b[1;33m:\u001b[0m\u001b[1;33m\u001b[0m\u001b[1;33m\u001b[0m\u001b[0m\n\u001b[0;32m     66\u001b[0m             \u001b[1;32mreturn\u001b[0m \u001b[0mWeb_Page_Summarizer\u001b[0m\u001b[1;33m(\u001b[0m\u001b[1;33m)\u001b[0m\u001b[1;33m\u001b[0m\u001b[1;33m\u001b[0m\u001b[0m\n",
      "\u001b[1;32m<ipython-input-2-8f585cf0c7e8>\u001b[0m in \u001b[0;36mText_Page_Summarizer\u001b[1;34m()\u001b[0m\n\u001b[0;32m     30\u001b[0m                     print('\\nThere seem to be an issue,',\n\u001b[0;32m     31\u001b[0m                           \u001b[1;34m' \\n 1. check your internet connection and try again,\\n'\u001b[0m\u001b[1;33m,\u001b[0m\u001b[1;33m\u001b[0m\u001b[1;33m\u001b[0m\u001b[0m\n\u001b[1;32m---> 32\u001b[1;33m                            \u001b[1;34m'2. Check if this link: '\u001b[0m\u001b[1;33m,\u001b[0m\u001b[1;34m'\"'\u001b[0m\u001b[1;33m,\u001b[0m\u001b[0murl\u001b[0m\u001b[1;33m,\u001b[0m\u001b[1;34m'\"'\u001b[0m\u001b[1;33m,\u001b[0m\u001b[1;34m'Is Valid\\n'\u001b[0m\u001b[1;33m,\u001b[0m\u001b[1;33m\u001b[0m\u001b[1;33m\u001b[0m\u001b[0m\n\u001b[0m\u001b[0;32m     33\u001b[0m                           '3. Or contact 07035834838')\n\u001b[0;32m     34\u001b[0m \u001b[1;33m\u001b[0m\u001b[0m\n",
      "\u001b[1;31mNameError\u001b[0m: name 'url' is not defined"
     ]
    }
   ],
   "source": [
    "print(summarizer.__self__())"
   ]
  },
  {
   "cell_type": "code",
   "execution_count": null,
   "metadata": {},
   "outputs": [],
   "source": [
    "def Web_Page_Summarizer():\n",
    "    start = 0\n",
    "    LANGUAGE = 'english'\n",
    "    while (start<1):\n",
    "        url = input('\\nEnter The Website link You Wish to Summarize or Enter \"e\" to Exit The Program: ')\n",
    "        if url == 'e' or url =='E':\n",
    "            print('\\nProgram Exited.')\n",
    "            break\n",
    "        SENTENCES_COUNT = input('\\nEnter The Number of Sentences You Wish To Summarize To: ')\n",
    "        try:\n",
    "            SENTENCES_COUNT = int(SENTENCES_COUNT)\n",
    "        except:\n",
    "            print(' \\n','\"',SENTENCES_COUNT,'\"',' Is NOT a valid Number!, Please Enter a valid Number: ')\n",
    "            continue\n",
    "        try:\n",
    "            parser = HtmlParser.from_url(url, Tokenizer(LANGUAGE)) \n",
    "            stemmer = Stemmer(LANGUAGE)\n",
    "            summarizer = Summarizer(stemmer)\n",
    "            summarizer.stop_words = get_stop_words(LANGUAGE)\n",
    "            summary = summarizer(parser.document, SENTENCES_COUNT)\n",
    "            for sentences in summary:\n",
    "                print(sentences)\n",
    "            print('\\n---END---')            \n",
    "        except:\n",
    "            print('\\nERROR, Please :',\n",
    "                  ' \\n 1. Check your internet connection and try again,\\n',\n",
    "                   '2. Check if the link: ','\"',url,'\"','Is Valid\\n',\n",
    "                  '3. Or Contact 07035834838')\n",
    "       "
   ]
  },
  {
   "cell_type": "code",
   "execution_count": null,
   "metadata": {},
   "outputs": [],
   "source": [
    "Web_Page_Summarizer()"
   ]
  },
  {
   "cell_type": "code",
   "execution_count": null,
   "metadata": {},
   "outputs": [],
   "source": [
    "def Text_Page_Summarizer():\n",
    "    start = 0\n",
    "    LANGUAGE = 'english'\n",
    "    while (start<1):\n",
    "        Text = input('\\nType or Paste The Text  You Wish to Summarize Here or \\nEnter \"e\" to Exit The Program: ')\n",
    "        if Text == 'e' or Text =='E':\n",
    "            print('\\nProgram Exited.')\n",
    "            break\n",
    "        SENTENCES_COUNT = input('\\nEnter The Number of Sentences You Wish To Summarize To: ')\n",
    "        try:\n",
    "            SENTENCES_COUNT = int(SENTENCES_COUNT)\n",
    "        except:\n",
    "            print(' \\n','\"',SENTENCES_COUNT,'\"',' Is NOT a valid Number!, Please Enter a valid Number: ')\n",
    "            continue\n",
    "        try:\n",
    "            with open('textfile.txt', 'w', encoding=\"utf-8\") as f:\n",
    "            f.write(Text)\n",
    "            text_parser = PlaintextParser.from_file('textfile.txt', Tokenizer(Lang))\n",
    "            text_stemmer = Stemmer(Lang)\n",
    "            text_summarizer = Summarizer(text_stemmer)\n",
    "            text_summarizer.stop_words = get_stop_words(Lang)\n",
    "            summary = text_summarizer(text_parser.document, s_counts)\n",
    "            for sentences in summary:\n",
    "                print(sentences)\n",
    "            print('\\n---END---')            \n",
    "        except:\n",
    "            print('\\nThere seem to be an issue,',\n",
    "                  ' \\n 1. check your internet connection and try again,\\n',                  \n",
    "                  '2. Or contact 07035834838')\n",
    "       "
   ]
  }
 ],
 "metadata": {
  "kernelspec": {
   "display_name": "Python 3",
   "language": "python",
   "name": "python3"
  },
  "language_info": {
   "codemirror_mode": {
    "name": "ipython",
    "version": 3
   },
   "file_extension": ".py",
   "mimetype": "text/x-python",
   "name": "python",
   "nbconvert_exporter": "python",
   "pygments_lexer": "ipython3",
   "version": "3.7.3"
  }
 },
 "nbformat": 4,
 "nbformat_minor": 2
}
